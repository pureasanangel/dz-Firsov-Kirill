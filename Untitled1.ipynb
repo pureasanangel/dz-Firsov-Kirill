{
  "metadata": {
    "language_info": {
      "codemirror_mode": {
        "name": "python",
        "version": 3
      },
      "file_extension": ".py",
      "mimetype": "text/x-python",
      "name": "python",
      "nbconvert_exporter": "python",
      "pygments_lexer": "ipython3",
      "version": "3.8"
    },
    "kernelspec": {
      "name": "python",
      "display_name": "Python (Pyodide)",
      "language": "python"
    }
  },
  "nbformat_minor": 4,
  "nbformat": 4,
  "cells": [
    {
      "cell_type": "code",
      "source": "#Человек вводит на сайте номер телефона, ему позволено для удобства использовать кроме плюса и цифр знаки ‘-’, ‘)’, ‘(’ и пробелы. Уберите их из ввода.\na = str(input())\na = a.replace('(','')\na = a.replace(')','')\na = a.replace('-','')\na = a.replace(' ','')\nprint(a)                                                                                                       ",
      "metadata": {
        "trusted": true
      },
      "execution_count": 2,
      "outputs": [
        {
          "name": "stdout",
          "text": "<Futurepending>\n",
          "output_type": "stream"
        }
      ]
    },
    {
      "cell_type": "code",
      "source": "#Вводится строка. Разделитель слов – пробел. Вывести все слова (на отдельных строках).\na = str(input())\nwhile a.count(' '):\n    a = a.replace(' ', \"\\n\")\nprint(a)",
      "metadata": {},
      "execution_count": null,
      "outputs": []
    },
    {
      "cell_type": "code",
      "source": "#Вам дана строка, состоящая только из букв английского алфавита и пробелов. Напишите программу, которая определит, является ли строка палиндромом.\na = str(input())\nb = ''\nfor x in reversed(a):\n    b += x\nif (a == b):\n    print('Yes')\nelse:\n    print('no')",
      "metadata": {},
      "execution_count": null,
      "outputs": []
    },
    {
      "cell_type": "code",
      "source": "#Измените порядок символов в строке на обратный.\na = str(input())\nb = ''\nfor x in reversed(a):\n    b += x\nprint(b)",
      "metadata": {},
      "execution_count": null,
      "outputs": []
    },
    {
      "cell_type": "code",
      "source": "#Найдите подстроку, заключенную в двойных кавычках в строке.\na = str(input())\na = a.replace('\"','').split('')\nb = a[1]\nprint(b)",
      "metadata": {},
      "execution_count": null,
      "outputs": []
    },
    {
      "cell_type": "code",
      "source": "#Из почтового адреса нужно достать логин\na = str(input())\na = a.split('@')\nb = a[0]\nprint(b)",
      "metadata": {},
      "execution_count": null,
      "outputs": []
    },
    {
      "cell_type": "code",
      "source": "#В строке записаны два числа, разделенные пробелом. Поменяйте их местами и напечатайте результат.\na = str(input())\nb = ''\nfor x in reversed(a):\n    b += x\nprint(b)",
      "metadata": {},
      "execution_count": null,
      "outputs": []
    },
    {
      "cell_type": "code",
      "source": "#Задана строка. Необходимо посчитать количество символов\na = a = str(input())\nk = a.count()\nprint(k)",
      "metadata": {},
      "execution_count": null,
      "outputs": []
    }
  ]
}